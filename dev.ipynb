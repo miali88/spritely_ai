{
 "cells": [
  {
   "cell_type": "code",
   "execution_count": 1,
   "metadata": {},
   "outputs": [
    {
     "name": "stdout",
     "output_type": "stream",
     "text": [
      "\u001b[32mINFO    \u001b[0m \u001b[34minvoke_llm\u001b[0m - 🤖 Processing prompt: \n",
      "create a new folder /my_first\n",
      "...\u001b[0m\n",
      "\u001b[36mDEBUG   \u001b[0m \u001b[34minvoke_llm\u001b[0m - 🌐 Calling Anthropic API...\u001b[0m\n",
      "\u001b[36mDEBUG   \u001b[0m \u001b[34minvoke_llm\u001b[0m - ⚠️ Unhandled chunk type: message_start\u001b[0m\n",
      "\u001b[36mDEBUG   \u001b[0m \u001b[34minvoke_llm\u001b[0m - ⚠️ Unhandled chunk type: content_block_start\u001b[0m\n",
      "\u001b[36mDEBUG   \u001b[0m \u001b[34minvoke_llm\u001b[0m - ⚠️ Unhandled chunk type: input_json\u001b[0m\n",
      "\u001b[36mDEBUG   \u001b[0m \u001b[34minvoke_llm\u001b[0m - ⚠️ Unhandled chunk type: input_json\u001b[0m\n",
      "\u001b[36mDEBUG   \u001b[0m \u001b[34minvoke_llm\u001b[0m - ⚠️ Unhandled chunk type: input_json\u001b[0m\n",
      "\u001b[36mDEBUG   \u001b[0m \u001b[34minvoke_llm\u001b[0m - ⚠️ Unhandled chunk type: input_json\u001b[0m\n",
      "\u001b[36mDEBUG   \u001b[0m \u001b[34minvoke_llm\u001b[0m - ⚠️ Unhandled chunk type: content_block_stop\u001b[0m\n",
      "\u001b[36mDEBUG   \u001b[0m \u001b[34minvoke_llm\u001b[0m - ⚠️ Unhandled chunk type: message_delta\u001b[0m\n",
      "\u001b[36mDEBUG   \u001b[0m \u001b[34minvoke_llm\u001b[0m - ⚠️ Unhandled chunk type: message_stop\u001b[0m\n",
      "\u001b[36mDEBUG   \u001b[0m \u001b[34minvoke_llm\u001b[0m - 📝 Complete response: \u001b[0m\n",
      "\u001b[32mINFO    \u001b[0m \u001b[34minvoke_llm\u001b[0m - ✅ Successfully processed prompt\u001b[0m\n"
     ]
    }
   ],
   "source": [
    "from invoke_llm import process_prompt\n",
    "\n",
    "prompt = \"\"\"\n",
    "create a new folder /my_first\n",
    "\"\"\"\n",
    "await process_prompt(prompt)\n",
    "\n"
   ]
  },
  {
   "cell_type": "code",
   "execution_count": 73,
   "metadata": {},
   "outputs": [
    {
     "data": {
      "text/plain": [
       "[TextBlock(text='[clipboard]', type='text')]"
      ]
     },
     "execution_count": 73,
     "metadata": {},
     "output_type": "execute_result"
    }
   ],
   "source": [
    "\n",
    "from anthropic import Anthropic\n",
    "import os\n",
    "from dotenv import load_dotenv\n",
    "import prompts\n",
    "\n",
    "load_dotenv()\n",
    "\n",
    "anthropic_client = Anthropic(api_key=os.getenv(\"ANTHROPIC_API_KEY\"))\n",
    "\n",
    "def text_response():  # renamed from text_stream since it's no longer streaming\n",
    "    message = anthropic_client.messages.create(\n",
    "        model=\"claude-3-sonnet-20240229\",\n",
    "        max_tokens=1024,\n",
    "        temperature=0.7,\n",
    "        messages=[{\n",
    "            \"role\": \"user\",\n",
    "            \"content\": \"write a python script that prints hello world\"\n",
    "        }],\n",
    "        system=prompts.RESPONSE_DETECTOR_PROMPT,\n",
    "        stream=False  # changed from True to False\n",
    "    )\n",
    "    \n",
    "    return message.content  # directly return the complete message content\n",
    "\n",
    "text_response()"
   ]
  },
  {
   "cell_type": "code",
   "execution_count": 69,
   "metadata": {},
   "outputs": [
    {
     "name": "stdout",
     "output_type": "stream",
     "text": [
      "copy\n"
     ]
    }
   ],
   "source": [
    "import os\n",
    "from groq import Groq\n",
    "from dotenv import load_dotenv\n",
    "import prompts\n",
    "\n",
    "load_dotenv()\n",
    "\n",
    "client = Groq(\n",
    "    api_key=os.getenv(\"GROQ_API_KEY\"),  # This is the default and can be omitted\n",
    ")\n",
    "\n",
    "chat_completion = client.chat.completions.create(\n",
    "    messages=[\n",
    "        {\n",
    "            \"role\": \"system\",\n",
    "            \"content\": prompts.RESPONSE_DETECTOR_PROMPT\n",
    "        },\n",
    "        {\n",
    "            \"role\": \"user\",\n",
    "            \"content\": \"write a python script that prints hello world\"\n",
    "        }\n",
    "    ],\n",
    "    model=\"llama3-70b-8192\",\n",
    ")\n",
    "print(chat_completion.choices[0].message.content)"
   ]
  },
  {
   "cell_type": "code",
   "execution_count": null,
   "metadata": {},
   "outputs": [],
   "source": []
  }
 ],
 "metadata": {
  "kernelspec": {
   "display_name": "venv",
   "language": "python",
   "name": "python3"
  },
  "language_info": {
   "codemirror_mode": {
    "name": "ipython",
    "version": 3
   },
   "file_extension": ".py",
   "mimetype": "text/x-python",
   "name": "python",
   "nbconvert_exporter": "python",
   "pygments_lexer": "ipython3",
   "version": "3.12.8"
  }
 },
 "nbformat": 4,
 "nbformat_minor": 2
}
